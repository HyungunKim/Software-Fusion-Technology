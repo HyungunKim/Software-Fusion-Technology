{
  "nbformat": 4,
  "nbformat_minor": 0,
  "metadata": {
    "colab": {
      "name": "텐서플로우 실습 (Starter).ipynb",
      "provenance": [],
      "collapsed_sections": []
    },
    "kernelspec": {
      "name": "python3",
      "display_name": "Python 3"
    },
    "language_info": {
      "name": "python"
    },
    "accelerator": "GPU"
  },
  "cells": [
    {
      "cell_type": "markdown",
      "metadata": {
        "id": "iofvXp6Lz5YK"
      },
      "source": [
        "# **TF-Keras 활용 딥러닝 학습**"
      ]
    },
    {
      "cell_type": "markdown",
      "metadata": {
        "id": "ZePYvwMfyUHA"
      },
      "source": [
        "## 의류 이미지 분류 목적이 무엇인가?\n",
        "\n",
        "=> TF-Keras를 활용한 딥러닝 모델 학습의 가장 기초!!"
      ]
    },
    {
      "cell_type": "markdown",
      "metadata": {
        "id": "gByh5Lg5FpPb"
      },
      "source": [
        "###import\n",
        "라이브러리 import는 파일의 가장 위에서 하는게 관습, 하지만 실습 설명상 필요한 곳에서 import 함"
      ]
    },
    {
      "cell_type": "code",
      "metadata": {
        "id": "T8tWIULuwxVS"
      },
      "source": [
        "# TensorFlow and tf.keras\n",
        "import tensorflow as tf\n",
        "\n",
        "# Helper libraries\n",
        "import numpy as np\n",
        "import matplotlib.pyplot as plt\n",
        "\n",
        "print(tf.__version__)"
      ],
      "execution_count": null,
      "outputs": []
    },
    {
      "cell_type": "markdown",
      "metadata": {
        "id": "utK9eTATGJob"
      },
      "source": [
        "## 데이터 Pipeline 구축"
      ]
    },
    {
      "cell_type": "code",
      "metadata": {
        "id": "pUEXhBJFxI_w"
      },
      "source": [
        "fashion_mnist = tf.keras.datasets.fashion_mnist\n",
        "\n",
        "(train_images, train_labels), (test_images, test_labels) = fashion_mnist.load_data()"
      ],
      "execution_count": null,
      "outputs": []
    },
    {
      "cell_type": "code",
      "metadata": {
        "id": "02mLl8uWxMqE"
      },
      "source": [
        "class_names = ['T-shirt/top', 'Trouser', 'Pullover', 'Dress', 'Coat',\n",
        "               'Sandal', 'Shirt', 'Sneaker', 'Bag', 'Ankle boot']"
      ],
      "execution_count": null,
      "outputs": []
    },
    {
      "cell_type": "code",
      "metadata": {
        "id": "XjVZ8NSpxPhM"
      },
      "source": [
        "print(train_images.shape)\n",
        "print(len(train_labels))"
      ],
      "execution_count": null,
      "outputs": []
    },
    {
      "cell_type": "code",
      "metadata": {
        "id": "4zE_2NGrxSBG"
      },
      "source": [
        "plt.figure()\n",
        "plt.imshow(train_images[0])\n",
        "plt.colorbar()\n",
        "plt.grid(False)\n",
        "plt.show()"
      ],
      "execution_count": null,
      "outputs": []
    },
    {
      "cell_type": "code",
      "metadata": {
        "id": "Be_svPpuxVLS"
      },
      "source": [
        "# 8 bit 이미지는 0~255의 정수형 자료 활용, 딥러닝 모델이 학습하기 편한 0~1 범위로 변환\n",
        "train_images = train_images / 255.0\n",
        "test_images = test_images / 255.0"
      ],
      "execution_count": null,
      "outputs": []
    },
    {
      "cell_type": "markdown",
      "metadata": {
        "id": "Ajb2icoCGq-b"
      },
      "source": [
        "## 모델 생성"
      ]
    },
    {
      "cell_type": "code",
      "metadata": {
        "id": "uOwQAJ_wxXib"
      },
      "source": [
        "model = tf.keras.Sequential([\n",
        "    tf.keras.layers.Flatten(input_shape=(28, 28)),\n",
        "    tf.keras.layers.Dense(128, activation='relu'),\n",
        "    tf.keras.layers.Dense(10)\n",
        "])"
      ],
      "execution_count": null,
      "outputs": []
    },
    {
      "cell_type": "code",
      "metadata": {
        "id": "KLRXiX7bxbhE"
      },
      "source": [
        "model.compile(optimizer='adam',\n",
        "              loss=tf.keras.losses.SparseCategoricalCrossentropy(from_logits=True),\n",
        "              metrics=['accuracy'])"
      ],
      "execution_count": null,
      "outputs": []
    },
    {
      "cell_type": "markdown",
      "metadata": {
        "id": "_61LySdiGvIj"
      },
      "source": [
        "## 훈련 및 평가"
      ]
    },
    {
      "cell_type": "code",
      "metadata": {
        "id": "l1XHdNKax0sQ"
      },
      "source": [
        "model.fit(train_images, train_labels, epochs=10)"
      ],
      "execution_count": null,
      "outputs": []
    },
    {
      "cell_type": "code",
      "metadata": {
        "id": "_gTKA-DLx3Bv"
      },
      "source": [
        "test_loss, test_acc = model.evaluate(test_images,  test_labels, verbose=2)\n",
        "\n",
        "print('\\nTest accuracy:', test_acc)"
      ],
      "execution_count": null,
      "outputs": []
    },
    {
      "cell_type": "markdown",
      "metadata": {
        "id": "MtYKBwGoG1eG"
      },
      "source": [
        "### **학습 성공???**"
      ]
    },
    {
      "cell_type": "markdown",
      "metadata": {
        "id": "Jtin36710DEk"
      },
      "source": [
        "# **Lane Line Binary Segmentation 실습**"
      ]
    },
    {
      "cell_type": "code",
      "metadata": {
        "id": "7S8TlVxT3APa"
      },
      "source": [
        "try:\n",
        "    import lanemod\n",
        "except (ImportError, KeyError, ModuleNotFoundError):\n",
        "    !git clone https://github.com/HyungunKim/Software-Fusion-Technology.git ./Project\n",
        "    !pip install -e ./Project\n",
        "    print('Stopping RUNTIME. Colaboratory will restart automatically. Please run again.')\n",
        "    exit()"
      ],
      "execution_count": null,
      "outputs": []
    },
    {
      "cell_type": "code",
      "metadata": {
        "id": "kdaWlAdx0OjU"
      },
      "source": [
        "import os\n",
        "from google.colab import files\n",
        "\n",
        "if not 'data' in os.listdir():\n",
        "    files.upload() #upload kaggle.json\n",
        "    !pip install -q kaggle\n",
        "    !mkdir -p ~/.kaggle\n",
        "    !cp kaggle.json ~/.kaggle/\n",
        "    !ls ~/.kaggle\n",
        "    !chmod 600 /root/.kaggle/kaggle.json\n",
        "    !kaggle datasets download -d hyunkunkookminuniv/lanelinedetection\n",
        "    !unzip -q lanelinedetection.zip -d ./data"
      ],
      "execution_count": null,
      "outputs": []
    },
    {
      "cell_type": "code",
      "metadata": {
        "id": "ury3_Tf81BpB"
      },
      "source": [
        "from tensorflow.keras.preprocessing.image import ImageDataGenerator\n",
        "\n",
        "SEED = 100\n",
        "\n",
        "# Todo: ImageDataGenerator를 활용해 Train, Validation, Test용 데이터를 불러오기\n",
        "\n",
        "image_data_generator = ...\n",
        "\n",
        "mask_data_generator = ...\n",
        "\n",
        "valid_data_generator = ...\n",
        "\n",
        "valid_label_generator = ...\n",
        "\n",
        "..."
      ],
      "execution_count": null,
      "outputs": []
    },
    {
      "cell_type": "code",
      "metadata": {
        "id": "ENt0nms316CR"
      },
      "source": [
        "import tensorflow as tf\n",
        "from tensorflow import keras \n",
        "from lanemod.networks import Encoder, Residual, Decoder\n",
        "\n",
        "# Todo: keras.Model 객체를 상속받아 Segmentation을 하는 모델 만들기\n",
        "\n",
        "class LaneNet(keras.Model): # 256*512*3\n",
        "    def __init__(self):\n",
        "        super().__init__()\n",
        "        self.e1 = Encoder(3, 32) #==> 128*256*32\n",
        "        self.e2 = ...\n",
        "\n",
        "\n",
        "    def call(self, input_tensor, *args, training=True, **kwargs):\n",
        "        e1o = self.e1(input_tensor, training=training) \n",
        "        e2o = ...\n",
        "\n",
        "        return tf.math.sigmoid(...)"
      ],
      "execution_count": null,
      "outputs": []
    },
    {
      "cell_type": "code",
      "metadata": {
        "id": "5yJrLKuT2nhK"
      },
      "source": [
        "from tensorflow.keras.optimizers import Adam\n",
        "from lanemod.lanelib import WBCE\n",
        "\n",
        "model = LaneNet()\n",
        "model.build(input_shape=(None, 256,512,3))\n",
        "model.compile(optimizer = Adam(lr = 1e-4), loss = WBCE, metrics = ['accuracy'])\n",
        "model.summary()"
      ],
      "execution_count": null,
      "outputs": []
    },
    {
      "cell_type": "code",
      "metadata": {
        "id": "dzYqKq9A2q38"
      },
      "source": [
        "batch_size = 8\n",
        "steps_per_epoch = 4000//batch_size\n",
        "validation_batch_size = 5\n",
        "validation_steps = 1000//validation_batch_size\n",
        "\n",
        "history = model.fit(zip(image_data_generator, mask_data_generator), validation_data=zip(valid_data_generator, valid_label_generator), \n",
        "                    epochs=5, batch_size=8, steps_per_epoch=steps_per_epoch, \n",
        "                    validation_batch_size = validation_batch_size, validation_steps = validation_steps) # batch size 실험 하기"
      ],
      "execution_count": null,
      "outputs": []
    },
    {
      "cell_type": "code",
      "metadata": {
        "id": "VWTHsm0Y4Wtu"
      },
      "source": [
        "# Todo: Test data를 활용해 모델 성능 살펴보기\n",
        "X = next(iter(test_data_generator))\n",
        "Y = next(iter(test_label_generator))\n",
        "Y_pred = model.predict(X)"
      ],
      "execution_count": null,
      "outputs": []
    },
    {
      "cell_type": "code",
      "metadata": {
        "id": "KAO3BcxE4gkU"
      },
      "source": [
        "\n",
        "import matplotlib.pyplot as plt\n",
        "for i in range(8):\n",
        "    plt.imshow(X[i])\n",
        "    plt.show()\n",
        "\n",
        "    plt.imshow(Y_pred[i][:,:,0])\n",
        "    plt.show()\n",
        "\n",
        "    plt.imshow(Y[i])\n",
        "    plt.show()"
      ],
      "execution_count": null,
      "outputs": []
    },
    {
      "cell_type": "code",
      "metadata": {
        "id": "inO0o5084g47"
      },
      "source": [
        ""
      ],
      "execution_count": null,
      "outputs": []
    }
  ]
}